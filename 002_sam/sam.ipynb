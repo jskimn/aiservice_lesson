{
  "cells": [
    {
      "cell_type": "markdown",
      "metadata": {
        "id": "BJFYKowdyLOE"
      },
      "source": [
        "# 002_SAM 실습\n",
        "\n"
      ]
    },
    {
      "cell_type": "markdown",
      "source": [
        "## 패키지 설치하기\n"
      ],
      "metadata": {
        "id": "umOgfcNjzO9K"
      }
    },
    {
      "cell_type": "code",
      "source": [
        "!pip install git+https://github.com/facebookresearch/segment-anything.git\n",
        "!pip install pycocotools==2.0.6"
      ],
      "metadata": {
        "id": "jcQIacDyzVN1",
        "outputId": "0535f291-37a4-4d59-c33f-aa481c52f65b",
        "colab": {
          "base_uri": "https://localhost:8080/"
        }
      },
      "execution_count": 2,
      "outputs": [
        {
          "output_type": "stream",
          "name": "stdout",
          "text": [
            "Collecting git+https://github.com/facebookresearch/segment-anything.git\n",
            "  Cloning https://github.com/facebookresearch/segment-anything.git to /tmp/pip-req-build-uv61f9d0\n",
            "  Running command git clone --filter=blob:none --quiet https://github.com/facebookresearch/segment-anything.git /tmp/pip-req-build-uv61f9d0\n",
            "  Resolved https://github.com/facebookresearch/segment-anything.git to commit dca509fe793f601edb92606367a655c15ac00fdf\n",
            "  Preparing metadata (setup.py) ... \u001b[?25l\u001b[?25hdone\n",
            "Building wheels for collected packages: segment_anything\n",
            "  Building wheel for segment_anything (setup.py) ... \u001b[?25l\u001b[?25hdone\n",
            "  Created wheel for segment_anything: filename=segment_anything-1.0-py3-none-any.whl size=36592 sha256=a0e7cb00ce1792e299cc9c481ee8995b5b0da11198dcf7346480bb80efff5df6\n",
            "  Stored in directory: /tmp/pip-ephem-wheel-cache-nfieenfy/wheels/15/d7/bd/05f5f23b7dcbe70cbc6783b06f12143b0cf1a5da5c7b52dcc5\n",
            "Successfully built segment_anything\n",
            "Installing collected packages: segment_anything\n",
            "Successfully installed segment_anything-1.0\n",
            "Collecting pycocotools==2.0.6\n",
            "  Downloading pycocotools-2.0.6.tar.gz (24 kB)\n",
            "  Installing build dependencies ... \u001b[?25l\u001b[?25hdone\n",
            "  Getting requirements to build wheel ... \u001b[?25l\u001b[?25hdone\n",
            "  Preparing metadata (pyproject.toml) ... \u001b[?25l\u001b[?25hdone\n",
            "Requirement already satisfied: matplotlib>=2.1.0 in /usr/local/lib/python3.11/dist-packages (from pycocotools==2.0.6) (3.10.0)\n",
            "Requirement already satisfied: numpy in /usr/local/lib/python3.11/dist-packages (from pycocotools==2.0.6) (1.26.4)\n",
            "Requirement already satisfied: contourpy>=1.0.1 in /usr/local/lib/python3.11/dist-packages (from matplotlib>=2.1.0->pycocotools==2.0.6) (1.3.1)\n",
            "Requirement already satisfied: cycler>=0.10 in /usr/local/lib/python3.11/dist-packages (from matplotlib>=2.1.0->pycocotools==2.0.6) (0.12.1)\n",
            "Requirement already satisfied: fonttools>=4.22.0 in /usr/local/lib/python3.11/dist-packages (from matplotlib>=2.1.0->pycocotools==2.0.6) (4.55.8)\n",
            "Requirement already satisfied: kiwisolver>=1.3.1 in /usr/local/lib/python3.11/dist-packages (from matplotlib>=2.1.0->pycocotools==2.0.6) (1.4.8)\n",
            "Requirement already satisfied: packaging>=20.0 in /usr/local/lib/python3.11/dist-packages (from matplotlib>=2.1.0->pycocotools==2.0.6) (24.2)\n",
            "Requirement already satisfied: pillow>=8 in /usr/local/lib/python3.11/dist-packages (from matplotlib>=2.1.0->pycocotools==2.0.6) (11.1.0)\n",
            "Requirement already satisfied: pyparsing>=2.3.1 in /usr/local/lib/python3.11/dist-packages (from matplotlib>=2.1.0->pycocotools==2.0.6) (3.2.1)\n",
            "Requirement already satisfied: python-dateutil>=2.7 in /usr/local/lib/python3.11/dist-packages (from matplotlib>=2.1.0->pycocotools==2.0.6) (2.8.2)\n",
            "Requirement already satisfied: six>=1.5 in /usr/local/lib/python3.11/dist-packages (from python-dateutil>=2.7->matplotlib>=2.1.0->pycocotools==2.0.6) (1.17.0)\n",
            "Building wheels for collected packages: pycocotools\n",
            "  Building wheel for pycocotools (pyproject.toml) ... \u001b[?25l\u001b[?25hdone\n",
            "  Created wheel for pycocotools: filename=pycocotools-2.0.6-cp311-cp311-linux_x86_64.whl size=400429 sha256=f000ca128b747ab0e1ab16d74b2acc2f307e62ba85d270313bd530923b89e417\n",
            "  Stored in directory: /root/.cache/pip/wheels/ad/ca/ea/fb115e04c841c3f71fd369b7d9805a43a5193f4f9251bed0ec\n",
            "Successfully built pycocotools\n",
            "Installing collected packages: pycocotools\n",
            "  Attempting uninstall: pycocotools\n",
            "    Found existing installation: pycocotools 2.0.8\n",
            "    Uninstalling pycocotools-2.0.8:\n",
            "      Successfully uninstalled pycocotools-2.0.8\n",
            "Successfully installed pycocotools-2.0.6\n"
          ]
        }
      ]
    },
    {
      "cell_type": "markdown",
      "metadata": {
        "id": "Sx21-uOmyLOG"
      },
      "source": [
        "## 패키지 불러오기"
      ]
    },
    {
      "cell_type": "code",
      "execution_count": null,
      "metadata": {
        "id": "rq2AqpG_yLOH"
      },
      "outputs": [],
      "source": [
        "import os\n",
        "import urllib\n",
        "\n",
        "import cv2\n",
        "import numpy as np\n",
        "import matplotlib.pyplot as plt\n",
        "import torch\n",
        "from segment_anything import SamPredictor, sam_model_registry"
      ]
    },
    {
      "cell_type": "markdown",
      "metadata": {
        "id": "2Nw10s03yLOI"
      },
      "source": [
        "## 모델 불러오기\n"
      ]
    },
    {
      "cell_type": "code",
      "execution_count": null,
      "metadata": {
        "id": "V2oCZ0q2yLOI"
      },
      "outputs": [],
      "source": [
        "CHECKPOINT_PATH = os.path.join(\"checkpoint\")\n",
        "CHECKPOINT_NAME = \"sam_vit_h_4b8939.pth\"\n",
        "CHECKPOINT_URL = \"https://dl.fbaipublicfiles.com/segment_anything/sam_vit_h_4b8939.pth\"\n",
        "DEVICE = torch.device(\"cuda\" if torch.cuda.is_available() else \"cpu\")"
      ]
    },
    {
      "cell_type": "code",
      "execution_count": null,
      "metadata": {
        "id": "uAuJbkLLyLOI"
      },
      "outputs": [],
      "source": [
        "if not os.path.exists(CHECKPOINT_PATH):\n",
        "    os.makedirs(CHECKPOINT_PATH, exist_ok=True)\n",
        "checkpoint = os.path.join(CHECKPOINT_PATH, CHECKPOINT_NAME)\n",
        "if not os.path.exists(checkpoint):\n",
        "    urllib.request.urlretrieve(CHECKPOINT_URL, checkpoint)"
      ]
    },
    {
      "cell_type": "code",
      "execution_count": null,
      "metadata": {
        "id": "DNjCX-PqyLOI"
      },
      "outputs": [],
      "source": [
        "sam = sam_model_registry[\"vit_h\"](checkpoint=checkpoint).to(DEVICE)\n",
        "predictor = SamPredictor(sam)"
      ]
    },
    {
      "cell_type": "markdown",
      "metadata": {
        "id": "j-ulqU5CyLOJ"
      },
      "source": [
        "## 예제 이미지 불러오기"
      ]
    },
    {
      "cell_type": "code",
      "execution_count": null,
      "metadata": {
        "id": "8P1H3zbfyLOJ"
      },
      "outputs": [],
      "source": [
        "IMAGE_PATH = \"mannequin.jpg\"\n",
        "image = cv2.imread(IMAGE_PATH, cv2.IMREAD_COLOR)\n",
        "image = cv2.cvtColor(image, cv2.COLOR_BGR2RGB)"
      ]
    },
    {
      "cell_type": "code",
      "execution_count": null,
      "metadata": {
        "id": "0ufm6hAeyLOJ"
      },
      "outputs": [],
      "source": [
        "plt.figure(figsize=(10, 10))\n",
        "plt.imshow(image)\n",
        "plt.axis(\"on\")\n",
        "plt.show()"
      ]
    },
    {
      "cell_type": "markdown",
      "metadata": {
        "id": "of3Lg2CiyLOK"
      },
      "source": [
        "## Prompt 포인트 좌표 입력 만들기\n",
        "\n",
        "원하는 위치의 객체를 segmentation 하기 위해서는 원하는 위치를 Point로 입력해야합니다. SAM 모델에 Point를 입력하기 위해서는 두 가지 정보가 필요합니다.\n",
        "\n",
        "- point_coords: Point 좌표 (x, y)\n",
        "- points_labels: Point의 타입. Point 위치의 객체를 선택하려면 Positive Click(1)로 설정."
      ]
    },
    {
      "cell_type": "code",
      "execution_count": null,
      "metadata": {
        "id": "u-519Pn8yLOK"
      },
      "outputs": [],
      "source": [
        "point_coords = np.array([[1720, 230]])\n",
        "points_labels = np.array([1])"
      ]
    },
    {
      "cell_type": "code",
      "execution_count": null,
      "metadata": {
        "id": "uHcatYEsyLOK"
      },
      "outputs": [],
      "source": [
        "plt.figure(figsize=(10, 10))\n",
        "plt.imshow(image)\n",
        "plt.gca().scatter(\n",
        "    point_coords[0, 0],\n",
        "    point_coords[0, 1],\n",
        "    color=\"green\",\n",
        "    marker=\"o\",\n",
        "    s=200,\n",
        "    edgecolor=\"white\",\n",
        "    linewidth=1.25,\n",
        ")\n",
        "plt.axis(\"on\")\n",
        "plt.show()"
      ]
    },
    {
      "cell_type": "markdown",
      "metadata": {
        "id": "HzHCaAuDyLOL"
      },
      "source": [
        "## SAM 모델 추론하기\n",
        "\n",
        "predictor의 predict 함수를 통해 추론합니다. 추론의 결과로 2 가지 정보가 출력됩니다.\n",
        "- masks: 입력한 정보에 대해 3개의 mask가 출력.\n",
        "- scores: 3개의 mask의 퀄리티에 대한 모델의 평가 점수. 점수가 가장 높을수록 퀄리티가 높은 mask입니다.\n",
        "- low_res_logits: 저해상도 mask 출력. 이 예제에서는 사용하지 않습니다."
      ]
    },
    {
      "cell_type": "code",
      "execution_count": null,
      "metadata": {
        "id": "q1m_gy3IyLOL"
      },
      "outputs": [],
      "source": [
        "predictor.set_image(image)\n",
        "masks, scores, _ = predictor.predict(point_coords, points_labels)"
      ]
    },
    {
      "cell_type": "code",
      "execution_count": null,
      "metadata": {
        "id": "_xabXdqCyLOM"
      },
      "outputs": [],
      "source": [
        "for i, mask in enumerate(masks):\n",
        "    print(f\"Mask {i}\")\n",
        "    plt.figure(figsize=(10, 10))\n",
        "    plt.imshow(mask)\n",
        "    plt.axis(\"on\")\n",
        "    plt.show()"
      ]
    },
    {
      "cell_type": "code",
      "execution_count": null,
      "metadata": {
        "id": "Qi59kRtVyLOM"
      },
      "outputs": [],
      "source": [
        "color = np.array([30/255, 144/255, 255/255, 0.5])\n",
        "\n",
        "for mask in masks:\n",
        "    mask_image = np.expand_dims(mask, axis=-1) * color.reshape(1, 1, -1)\n",
        "    mask_image = (mask_image * 255).astype(np.uint8)\n",
        "\n",
        "    plt.figure(figsize=(10, 10))\n",
        "    plt.imshow(image)\n",
        "    plt.imshow(mask_image)\n",
        "    plt.axis(\"on\")\n",
        "    plt.show()"
      ]
    },
    {
      "cell_type": "markdown",
      "metadata": {
        "id": "fm1klGeKyLOM"
      },
      "source": [
        "## 평가 점수를 이용해 세그멘테이션 마스크 선택하기"
      ]
    },
    {
      "cell_type": "code",
      "execution_count": null,
      "metadata": {
        "id": "JyfFsokMyLOM"
      },
      "outputs": [],
      "source": [
        "scores"
      ]
    },
    {
      "cell_type": "code",
      "execution_count": null,
      "metadata": {
        "id": "fMHKjFa3yLOM"
      },
      "outputs": [],
      "source": [
        "mask = masks[np.argmax(scores)]\n",
        "\n",
        "color = np.array([30/255, 144/255, 255/255, 0.5])\n",
        "mask_image = np.expand_dims(mask, axis=-1) * color.reshape(1, 1, -1)\n",
        "mask_image = (mask_image * 255).astype(np.uint8)\n",
        "\n",
        "plt.figure(figsize=(10, 10))\n",
        "plt.imshow(image)\n",
        "plt.imshow(mask_image)\n",
        "plt.axis(\"on\")\n",
        "plt.show()"
      ]
    }
  ],
  "metadata": {
    "kernelspec": {
      "display_name": "Python 3 (ipykernel)",
      "language": "python",
      "name": "python3"
    },
    "language_info": {
      "codemirror_mode": {
        "name": "ipython",
        "version": 3
      },
      "file_extension": ".py",
      "mimetype": "text/x-python",
      "name": "python",
      "nbconvert_exporter": "python",
      "pygments_lexer": "ipython3",
      "version": "3.10.13"
    },
    "orig_nbformat": 4,
    "colab": {
      "provenance": []
    }
  },
  "nbformat": 4,
  "nbformat_minor": 0
}